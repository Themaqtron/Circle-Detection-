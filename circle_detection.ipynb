{
 "cells": [
  {
   "cell_type": "code",
   "execution_count": 15,
   "metadata": {},
   "outputs": [],
   "source": [
    "import numpy as np\n",
    "import cv2 as cv\n",
    "img=cv.imread('E:\\circle detection\\img1.jpg')\n",
    "output=img.copy()\n",
    "\n",
    "gray=cv.cvtColor(img,cv.COLOR_BGR2GRAY)\n",
    "gray=cv.medianBlur(gray,5)\n",
    "circles=cv.HoughCircles(gray,cv.HOUGH_GRADIENT,1,20,\n",
    "param1=30,param2=50,minRadius=5,maxRadius=300)\n",
    "detected_circles=np.uint16(np.around(circles))\n",
    "for (x,y,r) in detected_circles[0,:]:\n",
    "    cv.circle(output,(x,y),r,(0,255,0),3)\n",
    "    cv.circle(output,(x,y),2,(0,255,0),3)\n",
    "\n",
    "\n",
    "cv.imshow('output',output)\n",
    "cv.waitKey(0)\n",
    "cv.destroyAllWindows()"
   ]
  }
 ],
 "metadata": {
  "interpreter": {
   "hash": "1e915f0a29dc84041eaeb02b7b1a21c440e37a87b61d44d5e84a515737dc82bc"
  },
  "kernelspec": {
   "display_name": "Python 3.9.7 ('base')",
   "language": "python",
   "name": "python3"
  },
  "language_info": {
   "codemirror_mode": {
    "name": "ipython",
    "version": 3
   },
   "file_extension": ".py",
   "mimetype": "text/x-python",
   "name": "python",
   "nbconvert_exporter": "python",
   "pygments_lexer": "ipython3",
   "version": "3.9.7"
  },
  "orig_nbformat": 4
 },
 "nbformat": 4,
 "nbformat_minor": 2
}
